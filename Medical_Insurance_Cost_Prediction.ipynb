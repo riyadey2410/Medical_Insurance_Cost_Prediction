{
 "cells": [
  {
   "cell_type": "markdown",
   "metadata": {},
   "source": [
    "## Import libraries"
   ]
  },
  {
   "cell_type": "code",
   "execution_count": 1,
   "metadata": {},
   "outputs": [],
   "source": [
    "import numpy as np\n",
    "import pandas as pd\n",
    "import matplotlib.pyplot as plt\n",
    "import seaborn as sns\n",
    "from sklearn.model_selection import train_test_split\n",
    "from sklearn.linear_model import LinearRegression\n",
    "from sklearn import metrics"
   ]
  },
  {
   "cell_type": "markdown",
   "metadata": {},
   "source": [
    "## Data Colllection and Analysis:\n",
    "#### Loading data from csv file to pandas dataframe"
   ]
  },
  {
   "cell_type": "code",
   "execution_count": 2,
   "metadata": {},
   "outputs": [],
   "source": [
    "Insurance_dataset = pd.read_csv('insurance.csv')"
   ]
  },
  {
   "cell_type": "code",
   "execution_count": 3,
   "metadata": {},
   "outputs": [
    {
     "data": {
      "text/html": [
       "<div>\n",
       "<style scoped>\n",
       "    .dataframe tbody tr th:only-of-type {\n",
       "        vertical-align: middle;\n",
       "    }\n",
       "\n",
       "    .dataframe tbody tr th {\n",
       "        vertical-align: top;\n",
       "    }\n",
       "\n",
       "    .dataframe thead th {\n",
       "        text-align: right;\n",
       "    }\n",
       "</style>\n",
       "<table border=\"1\" class=\"dataframe\">\n",
       "  <thead>\n",
       "    <tr style=\"text-align: right;\">\n",
       "      <th></th>\n",
       "      <th>age</th>\n",
       "      <th>sex</th>\n",
       "      <th>bmi</th>\n",
       "      <th>children</th>\n",
       "      <th>smoker</th>\n",
       "      <th>region</th>\n",
       "      <th>charges</th>\n",
       "    </tr>\n",
       "  </thead>\n",
       "  <tbody>\n",
       "    <tr>\n",
       "      <th>0</th>\n",
       "      <td>19</td>\n",
       "      <td>female</td>\n",
       "      <td>27.9</td>\n",
       "      <td>0</td>\n",
       "      <td>yes</td>\n",
       "      <td>southwest</td>\n",
       "      <td>16884.92</td>\n",
       "    </tr>\n",
       "    <tr>\n",
       "      <th>1</th>\n",
       "      <td>18</td>\n",
       "      <td>male</td>\n",
       "      <td>33.8</td>\n",
       "      <td>1</td>\n",
       "      <td>no</td>\n",
       "      <td>southeast</td>\n",
       "      <td>1725.55</td>\n",
       "    </tr>\n",
       "    <tr>\n",
       "      <th>2</th>\n",
       "      <td>28</td>\n",
       "      <td>male</td>\n",
       "      <td>33.0</td>\n",
       "      <td>3</td>\n",
       "      <td>no</td>\n",
       "      <td>southeast</td>\n",
       "      <td>4449.46</td>\n",
       "    </tr>\n",
       "    <tr>\n",
       "      <th>3</th>\n",
       "      <td>33</td>\n",
       "      <td>male</td>\n",
       "      <td>22.7</td>\n",
       "      <td>0</td>\n",
       "      <td>no</td>\n",
       "      <td>northwest</td>\n",
       "      <td>21984.47</td>\n",
       "    </tr>\n",
       "    <tr>\n",
       "      <th>4</th>\n",
       "      <td>32</td>\n",
       "      <td>male</td>\n",
       "      <td>28.9</td>\n",
       "      <td>0</td>\n",
       "      <td>no</td>\n",
       "      <td>northwest</td>\n",
       "      <td>3866.86</td>\n",
       "    </tr>\n",
       "  </tbody>\n",
       "</table>\n",
       "</div>"
      ],
      "text/plain": [
       "   age     sex   bmi  children smoker     region   charges\n",
       "0   19  female  27.9         0    yes  southwest  16884.92\n",
       "1   18    male  33.8         1     no  southeast   1725.55\n",
       "2   28    male  33.0         3     no  southeast   4449.46\n",
       "3   33    male  22.7         0     no  northwest  21984.47\n",
       "4   32    male  28.9         0     no  northwest   3866.86"
      ]
     },
     "execution_count": 3,
     "metadata": {},
     "output_type": "execute_result"
    }
   ],
   "source": [
    "#first 5 rows of dataframe\n",
    "Insurance_dataset.head()"
   ]
  },
  {
   "cell_type": "code",
   "execution_count": 4,
   "metadata": {},
   "outputs": [
    {
     "data": {
      "text/plain": [
       "(1338, 7)"
      ]
     },
     "execution_count": 4,
     "metadata": {},
     "output_type": "execute_result"
    }
   ],
   "source": [
    "#number of rows and columns in dataframe\n",
    "Insurance_dataset.shape"
   ]
  },
  {
   "cell_type": "code",
   "execution_count": 5,
   "metadata": {},
   "outputs": [
    {
     "name": "stdout",
     "output_type": "stream",
     "text": [
      "<class 'pandas.core.frame.DataFrame'>\n",
      "RangeIndex: 1338 entries, 0 to 1337\n",
      "Data columns (total 7 columns):\n",
      " #   Column    Non-Null Count  Dtype  \n",
      "---  ------    --------------  -----  \n",
      " 0   age       1338 non-null   int64  \n",
      " 1   sex       1338 non-null   object \n",
      " 2   bmi       1338 non-null   float64\n",
      " 3   children  1338 non-null   int64  \n",
      " 4   smoker    1338 non-null   object \n",
      " 5   region    1338 non-null   object \n",
      " 6   charges   1338 non-null   float64\n",
      "dtypes: float64(2), int64(2), object(3)\n",
      "memory usage: 73.3+ KB\n"
     ]
    }
   ],
   "source": [
    "#getting some information in dataset\n",
    "Insurance_dataset.info()"
   ]
  },
  {
   "cell_type": "markdown",
   "metadata": {},
   "source": [
    "- Categorical features- sex,smoker,region"
   ]
  },
  {
   "cell_type": "code",
   "execution_count": 7,
   "metadata": {},
   "outputs": [
    {
     "data": {
      "text/plain": [
       "age         0\n",
       "sex         0\n",
       "bmi         0\n",
       "children    0\n",
       "smoker      0\n",
       "region      0\n",
       "charges     0\n",
       "dtype: int64"
      ]
     },
     "execution_count": 7,
     "metadata": {},
     "output_type": "execute_result"
    }
   ],
   "source": [
    "# checking for missing values\n",
    "Insurance_dataset.isnull().sum()"
   ]
  },
  {
   "cell_type": "markdown",
   "metadata": {},
   "source": [
    "### Exploratory Data Analysis (EDA)"
   ]
  },
  {
   "cell_type": "code",
   "execution_count": 9,
   "metadata": {},
   "outputs": [
    {
     "data": {
      "text/html": [
       "<div>\n",
       "<style scoped>\n",
       "    .dataframe tbody tr th:only-of-type {\n",
       "        vertical-align: middle;\n",
       "    }\n",
       "\n",
       "    .dataframe tbody tr th {\n",
       "        vertical-align: top;\n",
       "    }\n",
       "\n",
       "    .dataframe thead th {\n",
       "        text-align: right;\n",
       "    }\n",
       "</style>\n",
       "<table border=\"1\" class=\"dataframe\">\n",
       "  <thead>\n",
       "    <tr style=\"text-align: right;\">\n",
       "      <th></th>\n",
       "      <th>age</th>\n",
       "      <th>bmi</th>\n",
       "      <th>children</th>\n",
       "      <th>charges</th>\n",
       "    </tr>\n",
       "  </thead>\n",
       "  <tbody>\n",
       "    <tr>\n",
       "      <th>count</th>\n",
       "      <td>1338.000000</td>\n",
       "      <td>1338.000000</td>\n",
       "      <td>1338.000000</td>\n",
       "      <td>1338.000000</td>\n",
       "    </tr>\n",
       "    <tr>\n",
       "      <th>mean</th>\n",
       "      <td>39.207025</td>\n",
       "      <td>30.665471</td>\n",
       "      <td>1.094918</td>\n",
       "      <td>13270.422414</td>\n",
       "    </tr>\n",
       "    <tr>\n",
       "      <th>std</th>\n",
       "      <td>14.049960</td>\n",
       "      <td>6.098382</td>\n",
       "      <td>1.205493</td>\n",
       "      <td>12110.011240</td>\n",
       "    </tr>\n",
       "    <tr>\n",
       "      <th>min</th>\n",
       "      <td>18.000000</td>\n",
       "      <td>16.000000</td>\n",
       "      <td>0.000000</td>\n",
       "      <td>1121.870000</td>\n",
       "    </tr>\n",
       "    <tr>\n",
       "      <th>25%</th>\n",
       "      <td>27.000000</td>\n",
       "      <td>26.300000</td>\n",
       "      <td>0.000000</td>\n",
       "      <td>4740.287500</td>\n",
       "    </tr>\n",
       "    <tr>\n",
       "      <th>50%</th>\n",
       "      <td>39.000000</td>\n",
       "      <td>30.400000</td>\n",
       "      <td>1.000000</td>\n",
       "      <td>9382.030000</td>\n",
       "    </tr>\n",
       "    <tr>\n",
       "      <th>75%</th>\n",
       "      <td>51.000000</td>\n",
       "      <td>34.700000</td>\n",
       "      <td>2.000000</td>\n",
       "      <td>16639.915000</td>\n",
       "    </tr>\n",
       "    <tr>\n",
       "      <th>max</th>\n",
       "      <td>64.000000</td>\n",
       "      <td>53.100000</td>\n",
       "      <td>5.000000</td>\n",
       "      <td>63770.430000</td>\n",
       "    </tr>\n",
       "  </tbody>\n",
       "</table>\n",
       "</div>"
      ],
      "text/plain": [
       "               age          bmi     children       charges\n",
       "count  1338.000000  1338.000000  1338.000000   1338.000000\n",
       "mean     39.207025    30.665471     1.094918  13270.422414\n",
       "std      14.049960     6.098382     1.205493  12110.011240\n",
       "min      18.000000    16.000000     0.000000   1121.870000\n",
       "25%      27.000000    26.300000     0.000000   4740.287500\n",
       "50%      39.000000    30.400000     1.000000   9382.030000\n",
       "75%      51.000000    34.700000     2.000000  16639.915000\n",
       "max      64.000000    53.100000     5.000000  63770.430000"
      ]
     },
     "execution_count": 9,
     "metadata": {},
     "output_type": "execute_result"
    }
   ],
   "source": [
    "#Statistical Measures of the dataset\n",
    "Insurance_dataset.describe()"
   ]
  },
  {
   "cell_type": "code",
   "execution_count": 11,
   "metadata": {},
   "outputs": [
    {
     "name": "stderr",
     "output_type": "stream",
     "text": [
      "C:\\Users\\Riya Dey\\anaconda3\\lib\\site-packages\\seaborn\\distributions.py:2551: FutureWarning: `distplot` is a deprecated function and will be removed in a future version. Please adapt your code to use either `displot` (a figure-level function with similar flexibility) or `histplot` (an axes-level function for histograms).\n",
      "  warnings.warn(msg, FutureWarning)\n"
     ]
    },
    {
     "data": {
      "image/png": "[encoded data removed]",
      "text/plain": [
       "<Figure size 432x432 with 1 Axes>"
      ]
     },
     "metadata": {},
     "output_type": "display_data"
    }
   ],
   "source": [
    "#distribution of age value\n",
    "sns.set()\n",
    "plt.figure(figsize=(6,6))\n",
    "sns.distplot(Insurance_dataset['age'])\n",
    "plt.title('Age Distribution')\n",
    "plt.show()"
   ]
  },
  {
   "cell_type": "code",
   "execution_count": 12,
   "metadata": {},
   "outputs": [
    {
     "data": {
      "image/png": "[encoded data removed]",
      "text/plain": [
       "<Figure size 432x432 with 1 Axes>"
      ]
     },
     "metadata": {},
     "output_type": "display_data"
    }
   ],
   "source": [
    "#distribution of gender column\n",
    "plt.figure(figsize=(6,6))\n",
    "sns.countplot(x='sex',data= Insurance_dataset)\n",
    "plt.title('Gender Distribution')\n",
    "plt.show()"
   ]
  },
  {
   "cell_type": "code",
   "execution_count": 13,
   "metadata": {},
   "outputs": [
    {
     "data": {
      "text/plain": [
       "male      676\n",
       "female    662\n",
       "Name: sex, dtype: int64"
      ]
     },
     "execution_count": 13,
     "metadata": {},
     "output_type": "execute_result"
    }
   ],
   "source": [
    "Insurance_dataset['sex'].value_counts()"
   ]
  },
  {
   "cell_type": "code",
   "execution_count": 14,
   "metadata": {},
   "outputs": [
    {
     "name": "stderr",
     "output_type": "stream",
     "text": [
      "C:\\Users\\Riya Dey\\anaconda3\\lib\\site-packages\\seaborn\\distributions.py:2551: FutureWarning: `distplot` is a deprecated function and will be removed in a future version. Please adapt your code to use either `displot` (a figure-level function with similar flexibility) or `histplot` (an axes-level function for histograms).\n",
      "  warnings.warn(msg, FutureWarning)\n"
     ]
    },
    {
     "data": {
      "image/png": "[encoded data removed]",
      "text/plain": [
       "<Figure size 432x432 with 1 Axes>"
      ]
     },
     "metadata": {},
     "output_type": "display_data"
    }
   ],
   "source": [
    "#distribution of bmi column\n",
    "plt.figure(figsize=(6,6))\n",
    "sns.distplot(Insurance_dataset['bmi'])\n",
    "plt.title('BMI Distribution')\n",
    "plt.show()"
   ]
  },
  {
   "cell_type": "markdown",
   "metadata": {},
   "source": [
    "- Normal BMI range is 18.5 to 24.9\n",
    "- Most of the people in this dataset are overweight \n",
    "- normal distribution"
   ]
  },
  {
   "cell_type": "code",
   "execution_count": 17,
   "metadata": {},
   "outputs": [
    {
     "data": {
      "image/png": "[encoded data removed]",
      "text/plain": [
       "<Figure size 432x432 with 1 Axes>"
      ]
     },
     "metadata": {},
     "output_type": "display_data"
    }
   ],
   "source": [
    "#distribution of children column\n",
    "#since only 5 values for children, so we can use count plot\n",
    "plt.figure(figsize=(6,6))\n",
    "sns.countplot(x='children', data=Insurance_dataset)\n",
    "plt.title('Children Distribution')\n",
    "plt.show()"
   ]
  },
  {
   "cell_type": "markdown",
   "metadata": {},
   "source": [
    "- more number of people are having no children, number of people with 1 child is more than others"
   ]
  },
  {
   "cell_type": "code",
   "execution_count": 19,
   "metadata": {},
   "outputs": [
    {
     "data": {
      "text/plain": [
       "0    574\n",
       "1    324\n",
       "2    240\n",
       "3    157\n",
       "4     25\n",
       "5     18\n",
       "Name: children, dtype: int64"
      ]
     },
     "execution_count": 19,
     "metadata": {},
     "output_type": "execute_result"
    }
   ],
   "source": [
    "Insurance_dataset['children'].value_counts()"
   ]
  },
  {
   "cell_type": "code",
   "execution_count": 20,
   "metadata": {},
   "outputs": [
    {
     "data": {
      "image/png": "[encoded data removed]",
      "text/plain": [
       "<Figure size 432x432 with 1 Axes>"
      ]
     },
     "metadata": {},
     "output_type": "display_data"
    }
   ],
   "source": [
    "#distribution of smoker column\n",
    "plt.figure(figsize=(6,6))\n",
    "sns.countplot(x='smoker', data=Insurance_dataset)\n",
    "plt.title('Smoker Distribution')\n",
    "plt.show()"
   ]
  },
  {
   "cell_type": "code",
   "execution_count": 21,
   "metadata": {},
   "outputs": [],
   "source": [
    "#more number of non-smoker here"
   ]
  },
  {
   "cell_type": "code",
   "execution_count": 22,
   "metadata": {},
   "outputs": [
    {
     "data": {
      "text/plain": [
       "no     1064\n",
       "yes     274\n",
       "Name: smoker, dtype: int64"
      ]
     },
     "execution_count": 22,
     "metadata": {},
     "output_type": "execute_result"
    }
   ],
   "source": [
    "Insurance_dataset['smoker'].value_counts()"
   ]
  },
  {
   "cell_type": "code",
   "execution_count": 23,
   "metadata": {},
   "outputs": [
    {
     "data": {
      "image/png": "[encoded data removed]",
      "text/plain": [
       "<Figure size 432x432 with 1 Axes>"
      ]
     },
     "metadata": {},
     "output_type": "display_data"
    }
   ],
   "source": [
    "#distribution of region column\n",
    "plt.figure(figsize=(6,6))\n",
    "sns.countplot(x='region', data=Insurance_dataset)\n",
    "plt.title('Region Distribution')\n",
    "plt.show()"
   ]
  },
  {
   "cell_type": "code",
   "execution_count": 24,
   "metadata": {},
   "outputs": [
    {
     "data": {
      "text/plain": [
       "southeast    364\n",
       "northwest    325\n",
       "southwest    325\n",
       "northeast    324\n",
       "Name: region, dtype: int64"
      ]
     },
     "execution_count": 24,
     "metadata": {},
     "output_type": "execute_result"
    }
   ],
   "source": [
    "Insurance_dataset['region'].value_counts()"
   ]
  },
  {
   "cell_type": "code",
   "execution_count": 25,
   "metadata": {},
   "outputs": [
    {
     "name": "stderr",
     "output_type": "stream",
     "text": [
      "C:\\Users\\Riya Dey\\anaconda3\\lib\\site-packages\\seaborn\\distributions.py:2551: FutureWarning: `distplot` is a deprecated function and will be removed in a future version. Please adapt your code to use either `displot` (a figure-level function with similar flexibility) or `histplot` (an axes-level function for histograms).\n",
      "  warnings.warn(msg, FutureWarning)\n"
     ]
    },
    {
     "data": {
      "image/png": "[encoded data removed]",
      "text/plain": [
       "<Figure size 432x432 with 1 Axes>"
      ]
     },
     "metadata": {},
     "output_type": "display_data"
    }
   ],
   "source": [
    "#distribution of charges column\n",
    "plt.figure(figsize=(6,6))\n",
    "sns.distplot(Insurance_dataset['charges'])\n",
    "plt.title('Charges Distribution')\n",
    "plt.show()"
   ]
  },
  {
   "cell_type": "markdown",
   "metadata": {},
   "source": [
    "### Data Preprocessing\n",
    "### Encoding Categorical Features"
   ]
  },
  {
   "cell_type": "code",
   "execution_count": 27,
   "metadata": {},
   "outputs": [],
   "source": [
    "#encoding sex columns\n",
    "Insurance_dataset.replace({'sex':{'male':0, 'female':1 }}, inplace=True)"
   ]
  },
  {
   "cell_type": "code",
   "execution_count": 28,
   "metadata": {},
   "outputs": [],
   "source": [
    "#encoding smoker columns\n",
    "Insurance_dataset.replace({'smoker':{'yes':0, 'no':1 }}, inplace=True)"
   ]
  },
  {
   "cell_type": "code",
   "execution_count": 29,
   "metadata": {},
   "outputs": [],
   "source": [
    "#encoding region columns\n",
    "Insurance_dataset.replace({'region':{'southeast':0, 'southwest':1, 'northeast':2, 'northwest':3 }}, inplace=True)"
   ]
  },
  {
   "cell_type": "code",
   "execution_count": 30,
   "metadata": {},
   "outputs": [
    {
     "data": {
      "text/html": [
       "<div>\n",
       "<style scoped>\n",
       "    .dataframe tbody tr th:only-of-type {\n",
       "        vertical-align: middle;\n",
       "    }\n",
       "\n",
       "    .dataframe tbody tr th {\n",
       "        vertical-align: top;\n",
       "    }\n",
       "\n",
       "    .dataframe thead th {\n",
       "        text-align: right;\n",
       "    }\n",
       "</style>\n",
       "<table border=\"1\" class=\"dataframe\">\n",
       "  <thead>\n",
       "    <tr style=\"text-align: right;\">\n",
       "      <th></th>\n",
       "      <th>age</th>\n",
       "      <th>sex</th>\n",
       "      <th>bmi</th>\n",
       "      <th>children</th>\n",
       "      <th>smoker</th>\n",
       "      <th>region</th>\n",
       "      <th>charges</th>\n",
       "    </tr>\n",
       "  </thead>\n",
       "  <tbody>\n",
       "    <tr>\n",
       "      <th>0</th>\n",
       "      <td>19</td>\n",
       "      <td>1</td>\n",
       "      <td>27.9</td>\n",
       "      <td>0</td>\n",
       "      <td>0</td>\n",
       "      <td>1</td>\n",
       "      <td>16884.92</td>\n",
       "    </tr>\n",
       "    <tr>\n",
       "      <th>1</th>\n",
       "      <td>18</td>\n",
       "      <td>0</td>\n",
       "      <td>33.8</td>\n",
       "      <td>1</td>\n",
       "      <td>1</td>\n",
       "      <td>0</td>\n",
       "      <td>1725.55</td>\n",
       "    </tr>\n",
       "    <tr>\n",
       "      <th>2</th>\n",
       "      <td>28</td>\n",
       "      <td>0</td>\n",
       "      <td>33.0</td>\n",
       "      <td>3</td>\n",
       "      <td>1</td>\n",
       "      <td>0</td>\n",
       "      <td>4449.46</td>\n",
       "    </tr>\n",
       "    <tr>\n",
       "      <th>3</th>\n",
       "      <td>33</td>\n",
       "      <td>0</td>\n",
       "      <td>22.7</td>\n",
       "      <td>0</td>\n",
       "      <td>1</td>\n",
       "      <td>3</td>\n",
       "      <td>21984.47</td>\n",
       "    </tr>\n",
       "    <tr>\n",
       "      <th>4</th>\n",
       "      <td>32</td>\n",
       "      <td>0</td>\n",
       "      <td>28.9</td>\n",
       "      <td>0</td>\n",
       "      <td>1</td>\n",
       "      <td>3</td>\n",
       "      <td>3866.86</td>\n",
       "    </tr>\n",
       "  </tbody>\n",
       "</table>\n",
       "</div>"
      ],
      "text/plain": [
       "   age  sex   bmi  children  smoker  region   charges\n",
       "0   19    1  27.9         0       0       1  16884.92\n",
       "1   18    0  33.8         1       1       0   1725.55\n",
       "2   28    0  33.0         3       1       0   4449.46\n",
       "3   33    0  22.7         0       1       3  21984.47\n",
       "4   32    0  28.9         0       1       3   3866.86"
      ]
     },
     "execution_count": 30,
     "metadata": {},
     "output_type": "execute_result"
    }
   ],
   "source": [
    "Insurance_dataset.head()"
   ]
  },
  {
   "cell_type": "code",
   "execution_count": 31,
   "metadata": {},
   "outputs": [],
   "source": [
    "#Splitting the features and target\n",
    "X= Insurance_dataset.drop(columns='charges', axis=1)\n",
    "Y= Insurance_dataset['charges']"
   ]
  },
  {
   "cell_type": "code",
   "execution_count": 32,
   "metadata": {},
   "outputs": [
    {
     "name": "stdout",
     "output_type": "stream",
     "text": [
      "      age  sex   bmi  children  smoker  region\n",
      "0      19    1  27.9         0       0       1\n",
      "1      18    0  33.8         1       1       0\n",
      "2      28    0  33.0         3       1       0\n",
      "3      33    0  22.7         0       1       3\n",
      "4      32    0  28.9         0       1       3\n",
      "...   ...  ...   ...       ...     ...     ...\n",
      "1333   50    0  31.0         3       1       3\n",
      "1334   18    1  31.9         0       1       2\n",
      "1335   18    1  36.9         0       1       0\n",
      "1336   21    1  25.8         0       1       1\n",
      "1337   61    1  29.1         0       0       3\n",
      "\n",
      "[1338 rows x 6 columns]\n"
     ]
    }
   ],
   "source": [
    "print(X)"
   ]
  },
  {
   "cell_type": "code",
   "execution_count": 34,
   "metadata": {},
   "outputs": [
    {
     "name": "stdout",
     "output_type": "stream",
     "text": [
      "0       16884.92\n",
      "1        1725.55\n",
      "2        4449.46\n",
      "3       21984.47\n",
      "4        3866.86\n",
      "          ...   \n",
      "1333    10600.55\n",
      "1334     2205.98\n",
      "1335     1629.83\n",
      "1336     2007.95\n",
      "1337    29141.36\n",
      "Name: charges, Length: 1338, dtype: float64\n"
     ]
    }
   ],
   "source": [
    "print(Y)"
   ]
  },
  {
   "cell_type": "code",
   "execution_count": 35,
   "metadata": {},
   "outputs": [],
   "source": [
    "#splitting the data into Training data & Testing data"
   ]
  },
  {
   "cell_type": "code",
   "execution_count": 55,
   "metadata": {},
   "outputs": [],
   "source": [
    "X_train, X_test, Y_train, Y_test = train_test_split(X, Y, test_size= 0.3, random_state= 2)"
   ]
  },
  {
   "cell_type": "code",
   "execution_count": 56,
   "metadata": {},
   "outputs": [
    {
     "name": "stdout",
     "output_type": "stream",
     "text": [
      "(1338, 6) (936, 6) (402, 6)\n"
     ]
    }
   ],
   "source": [
    "print(X.shape, X_train.shape, X_test.shape)"
   ]
  },
  {
   "cell_type": "markdown",
   "metadata": {},
   "source": [
    "## Modelling Part\n",
    "### Linear Regression"
   ]
  },
  {
   "cell_type": "code",
   "execution_count": 58,
   "metadata": {},
   "outputs": [],
   "source": [
    "#loading linear Regression Model\n",
    "regressor = LinearRegression()"
   ]
  },
  {
   "cell_type": "code",
   "execution_count": 59,
   "metadata": {},
   "outputs": [
    {
     "data": {
      "text/plain": [
       "LinearRegression()"
      ]
     },
     "execution_count": 59,
     "metadata": {},
     "output_type": "execute_result"
    }
   ],
   "source": [
    "regressor.fit(X_train, Y_train)"
   ]
  },
  {
   "cell_type": "markdown",
   "metadata": {},
   "source": [
    "### Model Evaluation"
   ]
  },
  {
   "cell_type": "code",
   "execution_count": 61,
   "metadata": {},
   "outputs": [
    {
     "data": {
      "text/plain": [
       "array([ 8.25807238e+03,  6.19724226e+03,  3.07369313e+04,  3.29423928e+03,\n",
       "        5.75743133e+03,  1.08957397e+04,  3.60759723e+04,  1.14540928e+04,\n",
       "        2.07465106e+03,  1.29055352e+04,  2.65254691e+03,  1.57317808e+04,\n",
       "        4.01563467e+03,  7.58278028e+03,  9.91120747e+03,  1.50270176e+04,\n",
       "        9.30408387e+03,  1.21773323e+04,  3.05146829e+04,  7.16169099e+03,\n",
       "        2.67266742e+04,  1.35102195e+04,  1.11344249e+04,  1.63293073e+03,\n",
       "        3.32277750e+04, -1.30210870e+03,  6.04623806e+03,  9.63817168e+03,\n",
       "        2.68638266e+04,  2.74195713e+04,  1.17221973e+04,  7.06179785e+03,\n",
       "        2.94225876e+04,  1.34906171e+04,  2.59293901e+03,  3.93965454e+03,\n",
       "        4.02736168e+04,  7.84028075e+03,  1.10893295e+04,  4.14700414e+03,\n",
       "        4.41074412e+03,  8.92058532e+03,  3.46611264e+04,  4.10946521e+03,\n",
       "        8.27534390e+03,  2.18878111e+03,  3.60814864e+04,  3.68250122e+02,\n",
       "        3.51830904e+03,  1.41961057e+04,  7.76040364e+03,  5.43304501e+03,\n",
       "        6.78020146e+03,  1.68963228e+04, -8.37869614e+02,  6.00523622e+03,\n",
       "        3.85635183e+04,  3.67768228e+04,  2.71755374e+04,  2.44906120e+04,\n",
       "        1.26532476e+04,  5.53105421e+03,  1.32092524e+04,  1.07338198e+04,\n",
       "        9.37582973e+03,  1.21283447e+04,  3.08670043e+04,  3.05830987e+04,\n",
       "        2.96001308e+04,  3.33531962e+04,  4.70562915e+03,  1.69949519e+04,\n",
       "        1.36454498e+04,  8.08145016e+03,  3.95801632e+03,  5.97368164e+03,\n",
       "        3.53233291e+03,  3.87114682e+04,  6.14682052e+03,  6.06704294e+03,\n",
       "        8.19222875e+03,  3.22872147e+04,  5.04891093e+03,  1.04085771e+04,\n",
       "        7.72707205e+02,  1.09514848e+04,  1.28443552e+04,  1.07365065e+04,\n",
       "        1.07762363e+04,  9.03099625e+03,  3.05955542e+02,  2.88332185e+04,\n",
       "        1.53488052e+04,  5.83121857e+03,  2.63252030e+04,  1.18988195e+04,\n",
       "        1.53141847e+04,  9.32066229e+03,  3.23752321e+03,  2.87851179e+04,\n",
       "        2.68373413e+04,  7.38310058e+03,  1.11396916e+04,  1.57023019e+04,\n",
       "        1.36264192e+04,  8.67149178e+03,  1.07097494e+04,  6.01891397e+03,\n",
       "        5.13826963e+03,  7.66463914e+03,  7.99284823e+03,  2.26886364e+04,\n",
       "        1.63256313e+01,  4.17729840e+03,  7.45150666e+03,  3.49974589e+04,\n",
       "        1.22222975e+04,  2.99835472e+04,  8.66660017e+02,  1.30637107e+03,\n",
       "        1.52036876e+04,  1.08491329e+04,  2.28764181e+03,  5.93619273e+03,\n",
       "        4.47462652e+03,  8.43569573e+03,  1.44411721e+04,  8.92300010e+03,\n",
       "        3.30666451e+03,  3.68926667e+04,  7.04028015e+03,  8.37368464e+03,\n",
       "        5.48304348e+03,  3.50561918e+04,  9.81334001e+03,  4.97981562e+03,\n",
       "        1.22065042e+04,  7.89772123e+03,  1.47932541e+04,  3.35035571e+04,\n",
       "        1.10671509e+04,  2.59748130e+03,  3.54221382e+04,  7.40579246e+03,\n",
       "        3.08020152e+04,  3.11424608e+04,  5.19775148e+03,  3.88657417e+04,\n",
       "        1.41432808e+04,  7.30104996e+03,  1.43192626e+03,  5.30875392e+03,\n",
       "        1.48615643e+04,  1.32775548e+04,  5.71696625e+03,  2.65134742e+04,\n",
       "        8.89763723e+03,  9.29969217e+03,  1.02729130e+03,  7.10278399e+03,\n",
       "        6.62435983e+03,  1.43870548e+04,  3.93594000e+04,  1.45987814e+04,\n",
       "        3.35895760e+04,  1.24687619e+04,  3.20517977e+03,  8.89349289e+03,\n",
       "        1.38076532e+04,  1.14620227e+04,  1.21669239e+04,  4.49665560e+03,\n",
       "        9.19112800e+03,  6.40205954e+03,  1.01893506e+04,  3.34727515e+04,\n",
       "        1.20855108e+04,  1.52847654e+04,  1.13751806e+04,  3.25586148e+03,\n",
       "        3.88337697e+04,  3.23926748e+04,  9.58604388e+03,  3.08693266e+03,\n",
       "        1.47486905e+04,  9.43990571e+03,  1.53113846e+04,  5.56678146e+03,\n",
       "        1.28996848e+04,  1.93775869e+03,  9.97385306e+03,  3.43029278e+03,\n",
       "        6.85055127e+03,  3.10503598e+04,  3.53772706e+02,  5.65339384e+03,\n",
       "        2.89226449e+03,  1.12013927e+04,  1.59943104e+04,  1.11639038e+04,\n",
       "        1.21291914e+04,  6.06634203e+03,  6.94622172e+03,  7.20997740e+03,\n",
       "        2.23914321e+03,  3.13871097e+04,  2.89378036e+04,  1.56128287e+04,\n",
       "        4.12254459e+03,  9.65986922e+03,  7.79973553e+03,  3.05870856e+04,\n",
       "        2.84892201e+04,  2.81922621e+03,  1.17710752e+04,  1.92484273e+04,\n",
       "        1.19817646e+04,  2.63637587e+04,  1.47889239e+04,  6.51563042e+03,\n",
       "        4.06248692e+03,  1.05175900e+04,  3.94278214e+03,  3.50138360e+04,\n",
       "        1.16351977e+04,  6.26583597e+03,  3.50220367e+04,  5.63281866e+03,\n",
       "        2.52802416e+03,  6.72693079e+03,  1.47345592e+04,  6.07609140e+03,\n",
       "        5.28399827e+03,  3.16820612e+04,  2.51762607e+04,  7.54345426e+02,\n",
       "        1.09380418e+04,  9.70897503e+03,  1.12390372e+04,  3.44795743e+03,\n",
       "        1.13730855e+04,  9.68041411e+03,  2.86920401e+04,  2.47280085e+04,\n",
       "        1.47901802e+04,  1.42556775e+04,  3.15063375e+04,  5.69829267e+03,\n",
       "        8.97277068e+03,  3.54971016e+04,  2.81292942e+04,  1.08657573e+04,\n",
       "        3.31004599e+04,  1.00389996e+04,  8.13190021e+03,  4.68657804e+03,\n",
       "        2.76604113e+04,  6.91421359e+03,  1.25134672e+04,  1.60995426e+04,\n",
       "        3.63689097e+04,  3.11489800e+04,  2.62591995e+03,  5.34844765e+03,\n",
       "        7.88425275e+03,  1.13626928e+04,  7.03988220e+03,  1.17175493e+04,\n",
       "        3.50168296e+04,  1.25926073e+04,  1.20908058e+04,  4.33443648e+03,\n",
       "        5.66825839e+03,  1.39522516e+04,  1.14849268e+04,  3.32542424e+03,\n",
       "        4.93771493e+03,  1.05365706e+04,  8.05301152e+03,  1.39643415e+04,\n",
       "        6.84218424e+03,  1.92701498e+03,  6.24318811e+03,  3.10700050e+03,\n",
       "        2.96679013e+04,  8.99925591e+03,  1.11843733e+04,  2.98371835e+03,\n",
       "        8.90519371e+03,  9.35152763e+03,  1.58264267e+04,  1.63233006e+04,\n",
       "        5.49131647e+03,  1.15374955e+04,  1.09911424e+04,  3.94183070e+04,\n",
       "        9.82086817e+03,  1.03926819e+04,  4.31581472e+03,  7.80911930e+03,\n",
       "        1.55514394e+04,  4.67675335e+03,  5.85677697e+03,  1.11859366e+04,\n",
       "       -6.09018013e+02,  3.01253094e+04,  3.35117620e+03,  9.42818919e+03,\n",
       "        1.30300814e+04,  1.42218059e+04,  7.83982721e+03,  1.21719354e+04,\n",
       "        3.93670161e+04,  1.03098503e+04,  1.47855842e+04,  1.01079170e+04,\n",
       "        9.92307836e+03,  2.82434336e+03,  1.17844019e+04,  6.40798047e+02,\n",
       "       -4.08674944e+01,  3.46356579e+04,  2.41231023e+04,  9.73459306e+03,\n",
       "        1.00370383e+04,  7.95102321e+03,  2.42676912e+03,  5.20839154e+03,\n",
       "        1.51251968e+04,  7.82379028e+03,  1.60934683e+04,  1.41674930e+04,\n",
       "        1.50469836e+04,  2.25748929e+03,  1.21468844e+04,  3.63011423e+03,\n",
       "        7.44574617e+03,  3.89878340e+04,  1.02187504e+04,  9.30013309e+03,\n",
       "        4.51872080e+03,  3.19422395e+04,  3.21544394e+04,  6.52543161e+03,\n",
       "        9.11894910e+03,  1.22468988e+04,  5.40252887e+03,  4.37463558e+03,\n",
       "        1.12401596e+04,  2.98171398e+04,  3.47623873e+04,  9.41026834e+03,\n",
       "        5.15623828e+03,  1.08239118e+04,  1.15857028e+04,  3.72424834e+04,\n",
       "        1.77150085e+03,  1.17959327e+04,  1.21183578e+04,  3.82311884e+04,\n",
       "        4.25318861e+03,  1.00892717e+04,  2.70887352e+04,  3.76585357e+04,\n",
       "        3.76891404e+03,  5.65971753e+03,  1.45196454e+04,  1.42555436e+04,\n",
       "        6.86658999e+03,  2.43043641e+03,  3.01950940e+04,  9.99787168e+03,\n",
       "        8.80143971e+03,  7.75176093e+03,  1.28394697e+04,  2.56739734e+04,\n",
       "        1.05333012e+04,  5.36554533e+03,  1.05658324e+04,  1.09729067e+04,\n",
       "        5.31925224e+03,  1.08531736e+04,  9.91148315e+03,  3.32411614e+04,\n",
       "        1.46998644e+04,  1.50419359e+04,  1.42586838e+04,  7.88137251e+03,\n",
       "        6.71463951e+03,  6.42747242e+03,  1.25878098e+04,  1.22060544e+04,\n",
       "        5.63797194e+03,  9.21162107e+03,  1.52278480e+04,  2.55125854e+04,\n",
       "        3.29236520e+04,  3.44737663e+04,  4.25522998e+03,  8.66385021e+03,\n",
       "        1.13043773e+04,  2.78849250e+04,  4.49559287e+03,  8.12313343e+03,\n",
       "        5.33338757e+03,  3.94040727e+03,  5.74125266e+03,  3.55095231e+04,\n",
       "        2.94837315e+04,  9.79155452e+03,  1.18127349e+04,  1.07754796e+04,\n",
       "        5.61358188e+03,  8.89838619e+03,  1.65316113e+04,  7.04033197e+03,\n",
       "        3.36437989e+04,  5.35099258e+03,  9.12663058e+03,  8.89057455e+03,\n",
       "        1.07673845e+04,  4.48727963e+03,  4.02879316e+03,  1.13334436e+04,\n",
       "        9.01463183e+03,  1.04723812e+04,  6.66304943e+03,  3.15736153e+04,\n",
       "        1.13742519e+04,  1.03219402e+04,  2.83992699e+04,  1.34474799e+04,\n",
       "        2.95637299e+04,  1.33547053e+04,  1.17577309e+04,  3.91170565e+04,\n",
       "        3.28395484e+04,  5.36270121e+03,  1.51148921e+04,  3.13292460e+04,\n",
       "        3.63755990e+04,  3.85597620e+03,  9.79651424e+03,  1.18603783e+04,\n",
       "        5.87007342e+03,  3.09011594e+04, -4.42338718e+02,  1.41956041e+04,\n",
       "        7.09357432e+03,  1.58267620e+04,  9.91677440e+03,  1.12233699e+04,\n",
       "        3.42207182e+04,  9.06243741e+03,  1.75114952e+03,  3.28836464e+04,\n",
       "        3.03629260e+04,  4.33815560e+03,  3.15818578e+03,  1.52306764e+04,\n",
       "        9.31508755e+03,  1.51916515e+04,  1.05616059e+04,  9.76695701e+03,\n",
       "        2.67174683e+04,  1.28360511e+02,  2.29284077e+04,  1.23435383e+04,\n",
       "        7.91087594e+03,  3.61388213e+04,  3.78699543e+04,  8.48491804e+02,\n",
       "        1.10775152e+04,  1.32311915e+04,  1.61797532e+04,  1.10732329e+04,\n",
       "        3.38485381e+01,  2.73109837e+04,  7.14217853e+03,  1.07249757e+04,\n",
       "        1.41357254e+04,  2.97481921e+04,  8.46959087e+03,  1.28228375e+04,\n",
       "        3.40084127e+04,  1.25287171e+04,  1.30749049e+04,  1.32635680e+03,\n",
       "        1.06528565e+04,  1.09679470e+04,  3.98528110e+04,  9.04358776e+03,\n",
       "        6.56711488e+03,  5.81165429e+03,  3.75814870e+04,  6.98039254e+03,\n",
       "        4.41599924e+03,  7.77412531e+03,  1.25692780e+04,  1.18767543e+04,\n",
       "        1.50139147e+04,  5.98776514e+03,  3.30486940e+04,  5.34635248e+03,\n",
       "        1.28204783e+04,  9.18427348e+03,  3.86502724e+04,  8.05617524e+03,\n",
       "        1.89314335e+03,  1.18513141e+04,  3.50858370e+04,  3.10759700e+04,\n",
       "        2.84733250e+04,  7.43892295e+03,  8.73440138e+03,  3.36333633e+04,\n",
       "        1.02760227e+04,  8.73825443e+03,  8.50797244e+03,  1.32435414e+04,\n",
       "        1.83456895e+04,  8.83671718e+03,  3.33514305e+04,  1.02953494e+04,\n",
       "        6.96771110e+03,  1.21699459e+04,  6.96741192e+03,  1.49208887e+04,\n",
       "        8.27847553e+03,  4.55116204e+03,  4.97284285e+03,  1.53162779e+04,\n",
       "        2.89670889e+04,  6.14329497e+03,  4.30795126e+03,  1.50497994e+04,\n",
       "        1.09156774e+04,  4.16057627e+03,  1.31243998e+04,  4.69368097e+03,\n",
       "        3.43796718e+04,  2.75012601e+04,  4.78730225e+03,  1.11223104e+04,\n",
       "        8.79002237e+03,  1.27704623e+04,  1.33072000e+04,  9.46449130e+03,\n",
       "        6.45851563e+03,  3.87117802e+03,  3.65312245e+04,  3.42353609e+04,\n",
       "        1.05693560e+04,  3.52969805e+03,  2.76666634e+04,  3.17439540e+04,\n",
       "        4.71156947e+03,  1.20600345e+04,  4.36752107e+03,  6.82425961e+03,\n",
       "        9.92634770e+03,  9.97839535e+03,  1.21629213e+04,  4.14471541e+03,\n",
       "        6.81361955e+03,  4.93970448e+03,  5.49247908e+03,  9.87161936e+03,\n",
       "        9.47238308e+03,  1.45144578e+04,  2.79543937e+04,  3.10354091e+04,\n",
       "        1.23058859e+04,  4.04723705e+03,  1.07130276e+04,  3.07813647e+04,\n",
       "        1.04792122e+04,  7.69210121e+03,  6.01462788e+03,  1.24491596e+04,\n",
       "        1.03165836e+04,  2.57709785e+04,  6.41266347e+03,  8.25828646e+03,\n",
       "        5.78399669e+03,  3.14978263e+03,  3.34093804e+04,  4.02942878e+04,\n",
       "        2.97955322e+04,  7.10065270e+03,  2.90514106e+04,  5.51208145e+03,\n",
       "        2.97733614e+04,  1.38395714e+04,  2.50738935e+03,  1.62364067e+04,\n",
       "        3.47021371e+04,  1.26799529e+04,  1.67759986e+03,  1.13421997e+04,\n",
       "        1.55187147e+04,  2.48317716e+03,  6.82267178e+03,  7.37136544e+03,\n",
       "        3.63386947e+03,  1.42331949e+04,  1.18073217e+04,  7.15984318e+03,\n",
       "        1.05726880e+04,  7.07350648e+03,  8.26596417e+03,  9.54304469e+03,\n",
       "        3.51584244e+03,  7.22926796e+03, -6.21841187e+02,  3.12738796e+03,\n",
       "        4.05685840e+03,  1.20592034e+04,  5.44662691e+03,  4.06792368e+03,\n",
       "        9.28144381e+03,  1.20395492e+04,  1.52112000e+04,  7.13534751e+03,\n",
       "        1.38721827e+04,  1.71161324e+03,  9.86468273e+03,  1.14036516e+04,\n",
       "        2.97044674e+04,  3.81422511e+04,  1.07461659e+04,  8.79814205e+03,\n",
       "        1.25899489e+04,  1.61500543e+04,  3.57524425e+04,  8.42628364e+03,\n",
       "        2.98590147e+03,  2.17283033e+03,  6.75484641e+03,  9.88606649e+03,\n",
       "        5.03390068e+01,  6.52436304e+03,  2.52450402e+04,  1.39293994e+04,\n",
       "        6.00055999e+03,  5.50958834e+03,  1.34626780e+04,  3.64679826e+03,\n",
       "        2.69759994e+04,  2.59050943e+04,  1.03088697e+04,  3.59089378e+03,\n",
       "        1.76241240e+04,  8.63694757e+03,  2.64260398e+03,  9.93116085e+03,\n",
       "        1.52848993e+04,  6.06378929e+03,  6.43803414e+03,  8.06923420e+03,\n",
       "        1.52713536e+03,  1.69688919e+04,  6.19369320e+03,  5.15220735e+03,\n",
       "        1.07889999e+04,  3.09795945e+04,  1.10517555e+04, -6.32339505e+02,\n",
       "        5.29792030e+03,  7.07322299e+03,  1.84056289e+04,  9.17276622e+03,\n",
       "        1.70397989e+04,  1.34750837e+04,  7.96975839e+03,  1.49104765e+04,\n",
       "        4.91316924e+03,  3.30123292e+04,  7.79539762e+03,  3.16913305e+04,\n",
       "        3.14067278e+04,  9.54816965e+03,  7.69028172e+03,  2.52387982e+03,\n",
       "        3.03897465e+04,  5.83186388e+03,  8.17173568e+03,  6.17925388e+03,\n",
       "        1.13953081e+04,  9.19227868e+03,  7.32013719e+03,  8.20560731e+03,\n",
       "        2.98441021e+04,  2.54674957e+03,  6.47534141e+03,  8.79363588e+03,\n",
       "        1.99836290e+03,  1.64510679e+03,  3.52130464e+04,  7.32326479e+03,\n",
       "        1.04948355e+04,  3.02974176e+04,  3.35251109e+04,  1.31436523e+04,\n",
       "        8.35341542e+03,  9.23720779e+03,  8.91966031e+03,  1.06010483e+04,\n",
       "        2.64538466e+04,  3.62923977e+04,  1.11723890e+04,  1.38661623e+04,\n",
       "        1.38882275e+04,  3.88833007e+04,  2.72250449e+04,  9.37493904e+03,\n",
       "        5.13143860e+03,  9.13645631e+03,  2.31405753e+04,  1.12417600e+04,\n",
       "        3.75936209e+04,  1.31497862e+04,  1.13194697e+04,  3.24790633e+04,\n",
       "        7.21763160e+03,  1.31117184e+04,  3.92589320e+04,  2.60647528e+04,\n",
       "        1.42097160e+04,  8.71437755e+03,  4.29815008e+03,  7.69907397e+03,\n",
       "        4.35810898e+03,  1.20194814e+04,  1.67195950e+04,  2.63872737e+04,\n",
       "        9.49775572e+03,  5.27250364e+03,  6.35707080e+03,  3.27376500e+04,\n",
       "        1.08626532e+04,  5.22390140e+03,  6.02670991e+03,  9.34567722e+03,\n",
       "        2.41377968e+04,  1.02506598e+04,  9.61009863e+03,  2.64714628e+03,\n",
       "        1.06852537e+04,  2.39851111e+04,  1.16267946e+04,  3.47617222e+03,\n",
       "        1.41194901e+04,  1.22846313e+04,  2.76292263e+04,  2.95328284e+04,\n",
       "        4.52277900e+03, -1.42872661e+03,  1.42925271e+04,  1.34456840e+04,\n",
       "        1.05838569e+04,  1.03221065e+04,  1.40953580e+04,  8.11918265e+03,\n",
       "        4.95384357e+03,  1.14470145e+04,  1.55101776e+04,  2.82652647e+03,\n",
       "        2.55508252e+04,  5.65311036e+03,  1.39075464e+04,  3.02702558e+03,\n",
       "        1.22079100e+04,  6.05402620e+03,  1.21771943e+04,  1.42762224e+04,\n",
       "        4.57608816e+02,  5.96682230e+03,  7.30795932e+03,  4.18555981e+03,\n",
       "        5.56794784e+03,  2.77472533e+04,  1.15220678e+04,  7.53689888e+03,\n",
       "        3.80170694e+04,  2.52861568e+03,  1.15502826e+04,  1.22246762e+04,\n",
       "        4.06397290e+03,  5.99454434e+03,  1.68736828e+04,  3.74953552e+03,\n",
       "        3.24811047e+04,  1.28528482e+04,  2.84172452e+03,  9.53492125e+03,\n",
       "        4.63131484e+03,  6.13758630e+03,  1.30031748e+04,  5.24190135e+03,\n",
       "        8.76759158e+03,  9.62572191e+03,  4.73606515e+03,  1.39210667e+04,\n",
       "        1.58056061e+04,  7.13576493e+03,  1.14403790e+04,  1.07180909e+04,\n",
       "        5.99772377e+03,  6.33770008e+03,  3.16234895e+04,  1.04380403e+04,\n",
       "        2.30764094e+04,  1.07296598e+04,  1.22962881e+04,  5.11744125e+03,\n",
       "        1.10148373e+04,  1.06364637e+04,  3.31039337e+04,  1.35222701e+03,\n",
       "        2.50673895e+04,  3.22127549e+04,  2.94654831e+04,  3.08251950e+04,\n",
       "        7.48891542e+03,  9.76831514e+03,  4.59089189e+03,  7.57539387e+03,\n",
       "        1.74921014e+04,  1.26402827e+04,  2.06989951e+03,  2.57469756e+04,\n",
       "        6.45748320e+03,  5.28621948e+03,  1.50679959e+04,  1.10842944e+04,\n",
       "        8.47995122e+03,  2.89036563e+04,  1.07861793e+04,  2.86138846e+04,\n",
       "        7.40991331e+03,  3.88484006e+03,  2.94026096e+04,  1.55044611e+04,\n",
       "        2.97266087e+03,  1.20523881e+04,  3.14829641e+04,  7.35325987e+03,\n",
       "        3.34896153e+04,  7.54610855e+03,  6.76705079e+03,  1.28304958e+03,\n",
       "        1.08550732e+04,  8.29821184e+03,  1.02723935e+04,  1.64528927e+04,\n",
       "        1.30638113e+04,  9.10005544e+03,  4.68651841e+03,  1.06993655e+04,\n",
       "        3.15750435e+03,  5.23120947e+03,  2.68428725e+03,  3.24197154e+04,\n",
       "        6.06941781e+03,  9.48924318e+03,  6.94125420e+03,  2.99396230e+04,\n",
       "        1.19473260e+04,  3.95829981e+03,  4.69451377e+02,  3.03465772e+04,\n",
       "        1.22997002e+04,  1.27222472e+04,  5.68690366e+03,  9.68755317e+03,\n",
       "        3.08422769e+04,  2.06975777e+03,  8.57941913e+03,  1.43520090e+04,\n",
       "        7.34681795e+03,  1.32540916e+04,  1.04598933e+04,  1.25480438e+04,\n",
       "        3.45896102e+04,  1.44349003e+04,  9.80754143e+03,  6.27836786e+03,\n",
       "        1.22500107e+04,  2.82131105e+04,  1.08325906e+04,  4.64530842e+03,\n",
       "        5.89725577e+03,  1.88706128e+03,  5.98061451e+03,  2.34195133e+04,\n",
       "        3.54397745e+04,  1.41324472e+04,  8.81852065e+03,  3.38396786e+02,\n",
       "        7.74814743e+03,  9.66947487e+03,  1.25275532e+03,  2.88432635e+02,\n",
       "        4.91156501e+03,  3.33253989e+04,  1.18430527e+04,  9.17374684e+03,\n",
       "       -9.79497848e+02,  5.87406821e+03,  3.27037810e+03,  1.96603990e+03,\n",
       "        1.10901606e+04,  1.12447019e+04,  9.49273441e+03,  9.19456741e+03,\n",
       "        1.12777503e+04,  1.29555512e+04,  2.13523958e+03,  2.95171895e+04,\n",
       "        5.24343736e+03,  5.67209093e+03,  1.38950585e+04,  3.34065207e+04,\n",
       "        3.06785014e+04,  3.39793464e+04,  1.27873937e+04,  3.78567059e+04,\n",
       "        5.95598867e+03,  1.18641012e+04,  5.83614215e+03,  1.27865548e+04,\n",
       "        1.02770033e+04,  1.73060555e+04,  9.59584507e+03,  1.37359592e+04])"
      ]
     },
     "execution_count": 61,
     "metadata": {},
     "output_type": "execute_result"
    }
   ],
   "source": [
    "#prediction on training data\n",
    "training_data_prediction = regressor.predict(X_train)\n",
    "training_data_prediction"
   ]
  },
  {
   "cell_type": "code",
   "execution_count": 62,
   "metadata": {},
   "outputs": [
    {
     "data": {
      "text/plain": [
       "0.7415833389733029"
      ]
     },
     "execution_count": 62,
     "metadata": {},
     "output_type": "execute_result"
    }
   ],
   "source": [
    "#R squared value\n",
    "r2_train = metrics.r2_score(Y_train, training_data_prediction)\n",
    "r2_train"
   ]
  },
  {
   "cell_type": "markdown",
   "metadata": {},
   "source": [
    "### Prediction on testing data"
   ]
  },
  {
   "cell_type": "code",
   "execution_count": 64,
   "metadata": {},
   "outputs": [],
   "source": [
    "testing_data_prediction = regressor.predict(X_test)"
   ]
  },
  {
   "cell_type": "code",
   "execution_count": 65,
   "metadata": {},
   "outputs": [
    {
     "data": {
      "text/plain": [
       "0.7661491281463454"
      ]
     },
     "execution_count": 65,
     "metadata": {},
     "output_type": "execute_result"
    }
   ],
   "source": [
    "r2_test = metrics.r2_score(Y_test, testing_data_prediction)\n",
    "r2_test"
   ]
  },
  {
   "cell_type": "code",
   "execution_count": 66,
   "metadata": {},
   "outputs": [],
   "source": [
    "#Buildind the Predicting System"
   ]
  },
  {
   "cell_type": "code",
   "execution_count": 67,
   "metadata": {},
   "outputs": [
    {
     "data": {
      "text/plain": [
       "array([3884.78336694])"
      ]
     },
     "execution_count": 67,
     "metadata": {},
     "output_type": "execute_result"
    }
   ],
   "source": [
    "input_data = (31,1,25.74,0,1,0)\n",
    "#changing input_data to numpy array\n",
    "input_data_as_numpy_array = np.asarray(input_data)\n",
    "#reshaping the array\n",
    "input_data_reshaped = input_data_as_numpy_array.reshape(1,-1)\n",
    "\n",
    "prediction = regressor.predict(input_data_reshaped)\n",
    "prediction"
   ]
  },
  {
   "cell_type": "code",
   "execution_count": 68,
   "metadata": {},
   "outputs": [
    {
     "name": "stdout",
     "output_type": "stream",
     "text": [
      "The insurance is USD 3884.7833669391966\n"
     ]
    }
   ],
   "source": [
    "print('The insurance is USD', prediction[0])"
   ]
  },
  {
   "cell_type": "code",
   "execution_count": null,
   "metadata": {},
   "outputs": [],
   "source": []
  }
 ],
 "metadata": {
  "kernelspec": {
   "display_name": "Python 3",
   "language": "python",
   "name": "python3"
  },
  "language_info": {
   "codemirror_mode": {
    "name": "ipython",
    "version": 3
   },
   "file_extension": ".py",
   "mimetype": "text/x-python",
   "name": "python",
   "nbconvert_exporter": "python",
   "pygments_lexer": "ipython3",
   "version": "3.8.5"
  }
 },
 "nbformat": 4,
 "nbformat_minor": 4
}
